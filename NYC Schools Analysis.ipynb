{
 "cells": [
  {
   "cell_type": "markdown",
   "metadata": {},
   "source": [
    "# NYC SAT Score Analysis\n",
    "\n",
    "In this project, I'll be looking at correlations between various factors and the SAT scores that students in NYC schools receive. First things first is to read in the data and clean it up.\n",
  },
    ]
  {
   "cell_type": "code",
   "execution_count": 20,
   "metadata": {},
   "outputs": [],
   "source": [
    "import pandas as pd\n",
    "import numpy\n",
    "import re\n",
    "\n",
    "data_files = [\n",
    "    \"ap_2010.csv\",\n",
    "    \"class_size.csv\",\n",
    "    \"demographics.csv\",\n",
    "    \"graduation.csv\",\n",
    "    \"hs_directory.csv\",\n",
    "    \"sat_results.csv\"\n",
    "]\n",
    "\n",
    "data = {}\n",
    "\n",
    "for f in data_files:\n",
    "    d = pd.read_csv(f)\n",
    "    data[f.replace(\".csv\", \"\")] = d"
   ]
  },
  {
   "cell_type": "markdown",
   "metadata": {},
   "source": [
    "Now we'll read in the surveys and change them into a more usable format. We'll also change the dbn column's name to DBN to make it consistent with other data sets.\n",
   ]
  },
  {
   "cell_type": "code",
   "execution_count": 21,
   "metadata": {},
   "outputs": [],
   "source": [
    "all_survey = pd.read_csv(\"survey_all.txt\", delimiter=\"\\t\", encoding='windows-1252')\n",
    "d75_survey = pd.read_csv(\"survey_d75.txt\", delimiter=\"\\t\", encoding='windows-1252')\n",
    "survey = pd.concat([all_survey, d75_survey], axis=0, sort = True)\n",
    "\n",
    "survey[\"DBN\"] = survey[\"dbn\"]\n",
    "\n",
    "survey_fields = [\"DBN\", \"rr_s\", \"rr_t\", \"rr_p\", \"N_s\", \"N_t\", \"N_p\", \"saf_p_11\", \"com_p_11\", \"eng_p_11\", \"aca_p_11\", \"saf_t_11\", \"com_t_11\", \"eng_t_11\", \"aca_t_11\", \"saf_s_11\", \"com_s_11\", \"eng_s_11\", \"aca_s_11\", \"saf_tot_11\", \"com_tot_11\", \"eng_tot_11\", \"aca_tot_11\"]\n",
    "survey = survey.loc[:,survey_fields]\n",
    "data[\"survey\"] = survey"
   ]
  },
  {
   "cell_type": "markdown",
   "metadata": {},
   "source": [
    "Now we'll add DBN columns. A NYC school's DBN is its district borough number, and its a unique identifier for each school in the region. We want each dataset to have a DBN, formatted in the same manner, with the same title, so that we can merge the datasets into a single dataframe later on.\n",
    "\n",
    "Not all of the datasets have a DBN column, but all of them do have information from which we can construct a DBN.\n",
    "\n",
    "A DBN is essentially a combination of a school's CSD number followed by its school code. The CSD, however, is sometimes just a single digit, whereas in the DBN it is two digits. So, we need to add a leading 0 to those values which are just a single digit. We can do this with the string method zfill. This method will automatically check the number of digits in the number, and if there are fewer than the number specified (2 below), then it will add zeroes to the front of the number until the specified number of digits is reached. If there are already 2 digits in the number, then it will return the number as is (albeit as a string). For example, for num = 5, pad_csd will return \"05\". For num = 12, pad_csd will return \"12\".\n",
    "\n",
    "Once we've added the 0 to the value in the CSD column, we can combine the values in the CSD column with those in the school code column to produce our DBN. Finally, we can add this column to the dataframe that is missing it, in this case hs_directory."
   ]
  },
  {
   "cell_type": "code",
   "execution_count": 22,
   "metadata": {},
   "outputs": [],
   "source": [
    "data[\"hs_directory\"][\"DBN\"] = data[\"hs_directory\"][\"dbn\"]\n",
    "\n",
    "def pad_csd(num):\n",
    "    string = str(num)\n",
    "    return(string.zfill(2))\n",
    "    \n",
    "data[\"class_size\"][\"padded_csd\"] = data[\"class_size\"][\"CSD\"].apply(pad_csd)\n",
    "data[\"class_size\"][\"DBN\"] = data[\"class_size\"][\"padded_csd\"] + data[\"class_size\"][\"SCHOOL CODE\"]"
   ]
  },
  {
   "cell_type": "markdown",
   "metadata": {},
   "source": [
    "Next, we need to convert some of the values in the dataframes from strings to numeric values. We can do this using the pd.to_numeric method, which converts each value in the provided series to the numeric type. If we pass the keyword argument errors = \"coerce\", we can make sure that the method will execute over every element in the series, converting those elements that cannot be converted to numbers to NaN instead.\n",
    "\n",
    "We'll also create two new columns - lat and lon - from the Location 1 column by preserving only the latitude and longitude values, respectively, of that column. This will be useful later on when we want to plot some of our data on maps."
   ]
  },
  {
   "cell_type": "code",
   "execution_count": 23,
   "metadata": {},
   "outputs": [],
   "source": [
    "cols = ['SAT Math Avg. Score', 'SAT Critical Reading Avg. Score', 'SAT Writing Avg. Score']\n",
    "for c in cols:\n",
    "    data[\"sat_results\"][c] = pd.to_numeric(data[\"sat_results\"][c], errors=\"coerce\")\n",
    "\n",
    "data['sat_results']['sat_score'] = data['sat_results'][cols[0]] + data['sat_results'][cols[1]] + data['sat_results'][cols[2]]\n",
    "\n",
    "def find_lat(loc):\n",
    "    coords = re.findall(\"\\(.+, .+\\)\", loc)\n",
    "    lat = coords[0].split(\",\")[0].replace(\"(\", \"\")\n",
    "    return lat\n",
    "\n",
    "def find_lon(loc):\n",
    "    coords = re.findall(\"\\(.+, .+\\)\", loc)\n",
    "    lon = coords[0].split(\",\")[1].replace(\")\", \"\").strip()\n",
    "    return lon\n",
    "\n",
    "data[\"hs_directory\"][\"lat\"] = data[\"hs_directory\"][\"Location 1\"].apply(find_lat)\n",
    "data[\"hs_directory\"][\"lon\"] = data[\"hs_directory\"][\"Location 1\"].apply(find_lon)\n",
    "\n",
    "data[\"hs_directory\"][\"lat\"] = pd.to_numeric(data[\"hs_directory\"][\"lat\"], errors=\"coerce\")\n",
    "data[\"hs_directory\"][\"lon\"] = pd.to_numeric(data[\"hs_directory\"][\"lon\"], errors=\"coerce\")"
   ]
  },
  {
   "cell_type": "markdown",
   "metadata": {},
   "source": [
    "Next, we want to filter our class_size dataframe. Since we're only looking at high schools, let's select only those schools with grades of 9-12.\n",
    "\n",
    "We also want only one row for every DBN value, and since the same school can have multiple program types, we'll want to select one and remove the others to leave us with just a single row for each DBN value. Since the Gen Ed program is the largest, we'll keep that.\n",
    "\n",
    "Unfortunately, this still doesn't leave us with a unique DBN value due to two of the columns in the df (CORE COURSE (MS CORE and 9-12 ONLY) and CORE SUBJECT (MS CORE and 9-12 ONLY)). The same DBN value will correspond to multiple courses and subjects. How do we solve this?\n",
    "\n",
    "It would be silly to just select a single course a particular school offers and use only the data in that row. But we can't preserve all of the data either. Instead, for every DBN value, we can take the mean value of every column that corresponds to that DBN value. This will give us an idea of the aggregate information for a particular school, which is far better than nothing.\n",
    "\n",
    "To do this, we can use the pandas.DataFrame.groupby() method. This will split the given df into groups according to the values in the column that we pass the method. As can be seen below, by passing the column name \"DBN\", the df is split into numerous groups, with each group corresponding to each unique DBN.\n",
    "\n",
    "We can then use the agg() or aggregate() method to find the aggregate value of each column in each of the resulting groups. By passing the argument numpy.mean, the method will calculate the mean value of each of the columns for each unique DBN."
   ]
  },
  {
   "cell_type": "code",
   "execution_count": 24,
   "metadata": {},
   "outputs": [],
   "source": [
    "class_size = data[\"class_size\"]\n",
    "class_size = class_size[class_size[\"GRADE \"] == \"09-12\"]\n",
    "class_size = class_size[class_size[\"PROGRAM TYPE\"] == \"GEN ED\"]\n",
    "\n",
    "class_size = class_size.groupby(\"DBN\").agg(numpy.mean)"
   ]
  },
  {
   "cell_type": "markdown",
   "metadata": {},
   "source": [
    "Great. One issue, though, is that the index values have now been replaced by the DBN value. We want the DBN values to be in their own column, not the index. So, we need to convert them back, which we can do using the pandas.DataFrame.reset_index method. By passing the argument inplace = True, the method will modify the object as it is, rather than creating a new object. Finally, we can reassign our cleaned data to our original data dictionary."
   ]
  },
  {
   "cell_type": "code",
   "execution_count": 25,
   "metadata": {},
   "outputs": [],
   "source": [
    "class_size.reset_index(inplace=True)\n",
    "data[\"class_size\"] = class_size"
   ]
  },
  {
   "cell_type": "markdown",
   "metadata": {},
   "source": [
    "Now we want to make sure each DBN in the demographics dataframe is unique, and do the same for the graduation datafarme. This time we don't need to calculate averages, we can just select a year for demographics, and a cohort and  demographic for graduation, and we're there."
   ]
  },
  {
   "cell_type": "code",
   "execution_count": 26,
   "metadata": {},
   "outputs": [],
   "source": [
    "data[\"demographics\"] = data[\"demographics\"][data[\"demographics\"][\"schoolyear\"] == 20112012]\n",
    "\n",
    "data[\"graduation\"] = data[\"graduation\"][data[\"graduation\"][\"Cohort\"] == \"2006\"]\n",
    "data[\"graduation\"] = data[\"graduation\"][data[\"graduation\"][\"Demographic\"] == \"Total Cohort\"]"
   ]
  },
  {
   "cell_type": "markdown",
   "metadata": {},
   "source": [
    "Making values numeric again."
   ]
  },
  {
   "cell_type": "code",
   "execution_count": 27,
   "metadata": {},
   "outputs": [],
   "source": [
    "cols = ['AP Test Takers ', 'Total Exams Taken', 'Number of Exams with scores 3 4 or 5']\n",
    "\n",
    "for col in cols:\n",
    "    data[\"ap_2010\"][col] = pd.to_numeric(data[\"ap_2010\"][col], errors=\"coerce\")"
   ]
  },
  {
   "cell_type": "markdown",
   "metadata": {},
   "source": [
    "## Merging Datasets\n",
    "\n",
    "Finally, our data is clean. Now we can merge all of our dataframes into a single dataframe. We can do this using the DataFrame.merge() method.\n",
    "\n",
    "First, we need to select a DataFrame that we'll be combining everything else with. Let's choose sat_results.\n",
    "\n",
    "Second, we need to determine what column we'll use to combine the df's. That is, we need to choose a column from which we'll compare values to combine all of the rows associated with that column. By selecting DBN, DataFrame.merge() will combine all of the data corresponding to each unique DBN from each df. So, for every DBN value there will be a corresponding value in every column, and the column names will be the set of unique column names of the combined dfs.\n",
    "\n",
    "Last, we need to determine how we want the df's to be merged. By passing how = \"left\", the method will find every unique DBN value from the df on the left (which is \"combined\" below), find the matching DBN value from the df on the right (\"ap_2010\" in the first instance below), and add only those rows from the second df to the first. If a DBN appears in ap_2010, but not in combined, then it will not be added to the combined df. If there are any columns where there is no value in the second df, then the value null will be placed. That is, if a DBN appears in the first df but not in the second, then that DBN will have null values in the columns that were originally a part of the second df.\n",
    "\n",
    "By passing how = \"inner\", the method instead selects only those DBN values that appear in both df's, and then merges the selected rows.\n",
    "\n",
    "To deal with the null values we've created, we can use the DataFrame.fillna() method. Whatever we pass this method is what the null values in the df will be replaced with. So, by passing it combined.mean, we replace the null values in each column with the mean value of that column. By passing it 0, we replace the null values in that column with 0."
   ]
  },
  {
   "cell_type": "code",
   "execution_count": 28,
   "metadata": {},
   "outputs": [],
   "source": [
    "combined = data[\"sat_results\"]\n",
    "\n",
    "combined = combined.merge(data[\"ap_2010\"], on=\"DBN\", how=\"left\")\n",
    "combined = combined.merge(data[\"graduation\"], on=\"DBN\", how=\"left\")\n",
    "\n",
    "to_merge = [\"class_size\", \"demographics\", \"survey\", \"hs_directory\"]\n",
    "\n",
    "for m in to_merge:\n",
    "    combined = combined.merge(data[m], on=\"DBN\", how=\"inner\")\n",
    "\n",
    "combined = combined.fillna(combined.mean())\n",
    "combined = combined.fillna(0)"
   ]
  },
  {
   "cell_type": "markdown",
   "metadata": {},
   "source": [
    "So we can group schools in the same district together when we produce a map, let's get the school district from the DBN values."
   ]
  },
  {
   "cell_type": "code",
   "execution_count": 29,
   "metadata": {},
   "outputs": [],
   "source": [
    "def first_two_characters(string):\n",
    "    return(string[0:2])\n",
    "\n",
    "combined[\"school_dist\"] = combined[\"DBN\"].apply(first_two_characters)"
   ]
  },
  {
   "cell_type": "markdown",
   "metadata": {},
   "source": [
    "## Finding correlations\n",
    "\n",
    "Okay, we're ready to find some correlations between the factors in our dataframe!\n",
    "\n",
    "We can use the method DataFrame.corr() to find the correlation between every pair of column names in our df. Displaying all of those correlations may be a bit much to handle, so let's just look at the correlations between sat_score and each other factor."
   ]
  },
  {
   "cell_type": "code",
   "execution_count": 30,
   "metadata": {
    "scrolled": true
   },
   "outputs": [],
   "source": [
    "correlations = combined.corr()\n",
    "correlations = correlations[\"sat_score\"]"
   ]
  },
  {
   "cell_type": "markdown",
   "metadata": {},
   "source": [
    "We can display these correlations in a more accessible way using a bar graph. We'll add a line at x = 0.25 and x = -0.25 to check for correlations that may be significant."
   ]
  },
  {
   "cell_type": "code",
   "execution_count": 47,
   "metadata": {
    "scrolled": true
   },
   "outputs": [
    {
     "name": "stderr",
     "output_type": "stream",
     "text": [
      "C:\\Users\\Ben\\Anaconda3\\lib\\site-packages\\pandas\\core\\series.py:851: FutureWarning: \n",
      "Passing list-likes to .loc or [] with any missing label will raise\n",
      "KeyError in the future, you can use .reindex() as an alternative.\n",
      "\n",
      "See the documentation here:\n",
      "https://pandas.pydata.org/pandas-docs/stable/indexing.html#deprecate-loc-reindex-listlike\n",
      "  return self.loc[key]\n"
     ]
    },
    {
     "data": {
      "text/plain": [
       "<matplotlib.lines.Line2D at 0x45d5ee3be0>"
      ]
     },
     "execution_count": 47,
     "metadata": {},
     "output_type": "execute_result"
    },
    {
     "data": {
      "image/png": "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\n",
      "text/plain": [
       "<Figure size 432x288 with 1 Axes>"
      ]
     },
     "metadata": {
      "needs_background": "light"
     },
     "output_type": "display_data"
    }
   ],
   "source": [
    "%matplotlib inline\n",
    "import matplotlib.pyplot as plt\n",
    "\n",
    "#Looking at correlations between sat scores and each of the columns from the survey data.\n",
    "correlations[survey_fields].plot(kind = \"barh\")\n",
    "plt.axvline(x = 0.25)\n",
    "plt.axvline(x = -0.25)"
   ]
  },
  {
   "cell_type": "markdown",
   "metadata": {},
   "source": [
    "We can check what each of the codes means by looking at the __[Survey Data Dictionary](https://data.cityofnewyork.us/Education/2011-NYC-School-Survey/mnz3-dyi8)__.\n",
    "\n",
    "We can see that 7 correlations are significant, these being:\n",
    "<br>\n",
    "<br>\n",
    "saf_tot_11: Safety and respect total score\n",
    "<br>\n",
    "aca_s_11: Academic expectations score based on teacher responses\n",
    "<br>\n",
    "saf_s_11: Safety and respect score based on student responses\n",
    "<br>\n",
    "saf_t_11: Safety and respect score based on teacher responses\n",
    "<br>\n",
    "N_p: Number of parent respondents\n",
    "<br>\n",
    "N_t: Number of teacher respondents\n",
    "<br>\n",
    "N_s: Number of student respondents\n",
    "\n",
    "We could also include rr_s (student response rate), since that's very near to 0.25 as well."
   ]
  },
  {
   "cell_type": "markdown",
   "metadata": {},
   "source": [
    "So, there are very few correlations which are negative, and none that are significant. The most strongly negative correlation is with com_p_11 (communication score based on parent responses), indicating that SAT scores slightly decrease with an increased communication score.\n",
    "\n",
    "The most strongly correlated factors are number of teacher respondents and number of student respondents. The higher the number of parents that respond to the survey, and the higher the number of students that respond to the survey, it seems, the higher the SAT scores. It's worth noting, however, that the r value for these factors is exactly the same, and that number of teacher respondents is also correlated with SAT score. This may indicate that there is a common factor which is correlated with all three of these factors and with SAT score.\n",
    "\n",
    "As it turns out, if we read the page linked above (survey data dictionary), it states that all students, parents, and teachers take the survey. Thus, SAT scores are not so much correlated with the number of respondents to the survey, but rather the number of students enrolled in the school. An interesting observation given that one might expect the quality of teaching to decrease in a larger school.\n",
    "\n",
    "A more interesting figure still, however, would be class size. We can see that as the number of teachers increases, the SAT score increases as well. Perhaps there would be a stronger correlation between SAT score and teacher to student ratio?\n",
    "\n",
    "Noteworthy also is that SAT score is weakly positively correlated with student's and teacher's reports of safety and respect. It is, of course, unsurprising that safety and respect total score would also be weakly positively correlated with SAT scores given this result.\n",
    "\n",
    "Finally, SAT score is weakly positively correlated with teacher's academic expectations. This is certainly no surprise, and indeed we may wonder why it is not higher. One would hope that teachers would have a good grasp on whether or not their students are likely to do well."
   ]
  },
  {
   "cell_type": "markdown",
   "metadata": {},
   "source": [
    "## Looking more deeply at student and teacher safety and respect response scores\n",
    "\n",
    "Let's look at these relationships more closely with a scatter plot."
   ]
  },
  {
   "cell_type": "code",
   "execution_count": 13,
   "metadata": {},
   "outputs": [
    {
     "data": {
      "text/plain": [
       "<matplotlib.axes._subplots.AxesSubplot at 0x2a64eb91d0>"
      ]
     },
     "execution_count": 13,
     "metadata": {},
     "output_type": "execute_result"
    },
    {
     "data": {
      "image/png": "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\n",
      "text/plain": [
       "<Figure size 432x288 with 1 Axes>"
      ]
     },
     "metadata": {
      "needs_background": "light"
     },
     "output_type": "display_data"
    }
   ],
   "source": [
    "combined.plot(x = \"saf_s_11\", y = \"sat_score\", kind = \"scatter\")"
   ]
  },
  {
   "cell_type": "markdown",
   "metadata": {},
   "source": [
    "While the strength of the correlation is hardly overwhelming, there is a clear increase in the number of high SAT scores as saf_s_11 increases, a substantial enough increase to outweigh the accompanying low SAT scores. It's interesting to note that the range of SAT scores increases dramatically as saf_s_11 increases, whereas at low saf_s_11 scores the range is relatively small and the data is closely grouped."
   ]
  },
  {
   "cell_type": "markdown",
   "metadata": {},
   "source": [
    "## Mapping Safety Score by District\n",
    "\n",
    "Now let's see how safety score is correlated with a school's district. For each district we'll calculate the average safety score and then display our results on a map.\n",
    "\n",
    "We can do the first step using the pandas.DataFrame.groupby() method followed by the pandas.DataFrame.agg() method we used above. This will give us the mean values for all of the columns for each school district."
   ]
  },
  {
   "cell_type": "code",
   "execution_count": 14,
   "metadata": {
    "scrolled": true
   },
   "outputs": [],
   "source": [
    "districts = combined.groupby(\"school_dist\").agg(numpy.mean)\n",
    "districts.reset_index(inplace=True)"
   ]
  },
  {
   "cell_type": "markdown",
   "metadata": {},
   "source": [
    "Now that we have the mean values for each of our districts, we can plot saf_s_11 on our map and see how it varies by district. To do this, we'll use Basemap, a matplotlib extension for creating maps. There's a lot going on when we create a map, so I'll explain each line within the cell below."
   ]
  },
  {
   "cell_type": "code",
   "execution_count": 15,
   "metadata": {
    "scrolled": true
   },
   "outputs": [
    {
     "data": {
      "image/png": "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\n",
      "text/plain": [
       "<Figure size 432x288 with 1 Axes>"
      ]
     },
     "metadata": {},
     "output_type": "display_data"
    }
   ],
   "source": [
    "from mpl_toolkits.basemap import Basemap\n",
    "\n",
    "m = Basemap(\n",
    "    projection='merc', # Specifices a map projection, which essentially converts the latitude and longitude values of points on the surface of a sphere to 2D coordinates that can be placed on a 2D map.\n",
    "                        # There are multiple ways of doing this, we're using \"merc\", or mercator.\n",
    "    llcrnrlat=40.496044, #latitude of lower left hand corner of map\n",
    "    urcrnrlat=40.915256, #latitude of upper right hand corner of map\n",
    "    llcrnrlon=-74.255735, #longitude of lower left hand corner of map\n",
    "    urcrnrlon=-73.700272, #longitude of upper right hand corner of map\n",
    "    resolution='i'# Resolution of coastlines, lakes, etc. i is intermediate.\n",
    ")\n",
    "\n",
    "# Note only the lower left and top right corners of the 2D map are required.\n",
    "\n",
    "m.drawmapboundary(fill_color='#85A6D9') # Draws a boundary around map region, filling it with the specified colour.\n",
    "m.drawcoastlines(color='#6D5F47', linewidth=.4) # Draws coastlines of a specific colour. We've also specified the linewidth\n",
    "m.drawrivers(color='#6D5F47', linewidth=.4) # Draws major rivers on the map.\n",
    "m.fillcontinents(color='white',lake_color='#85A6D9') # Fills continents with a specific colour, and lakes in continents with another colour.\n",
    "\n",
    "longitudes = districts[\"lon\"].tolist() # Converting our longitudes to a list, since they must be appropriate for the scatter method.\n",
    "latitudes = districts[\"lat\"].tolist() # As above\n",
    "m.scatter(longitudes, latitudes, s=50, zorder=2, latlon=True, c=districts[\"saf_s_11\"], cmap=\"summer\")\n",
    "# Specified x and y coordinates, s is the size of the map\n",
    "# s specifies the size of the marker on the map.\n",
    "# zorder orders the overlapping of 2D objects. Setting zorder = 2 ensures that the markers will appear on top of the map.\n",
    "# latlon set to True means x and y are interpreted as longitude and latitude in degrees.\n",
    "# c sets the colour. This looks strange, as we're setting the colour to the values of the districts[\"saf_s_11\"] column.\n",
    "# The reason for this is that the colour will change depending on the value in that column, and they will change according to the cmap (colour map) specified, in this case \"summer\".\n",
    "# In the summer cmap, higher values are yellow, and lower value are green.\n",
    "plt.show()"
   ]
  },
  {
   "cell_type": "markdown",
   "metadata": {},
   "source": [
    "The safety scores seem to vary quite a bit within the boroughs of NYC, but there are clearly certain patches in which safety scores are higher (e.g. South Brooklyn, NW Queens, Manhattan, South Bronx).\n",
    "\n",
    "## Correlations between Race and SAT Score\n",
    "\n",
    "Now let's look for correlations between SAT score and race. We'll look at the percentage of race columns: white_per, asian_per, black_per, and hispanic_per."
   ]
  },
  {
   "cell_type": "code",
   "execution_count": 22,
   "metadata": {},
   "outputs": [
    {
     "data": {
      "text/plain": [
       "<matplotlib.lines.Line2D at 0x2a65921278>"
      ]
     },
     "execution_count": 22,
     "metadata": {},
     "output_type": "execute_result"
    },
    {
     "data": {
      "image/png": "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\n",
      "text/plain": [
       "<Figure size 432x288 with 1 Axes>"
      ]
     },
     "metadata": {
      "needs_background": "light"
     },
     "output_type": "display_data"
    }
   ],
   "source": [
    "race_fields = [\"white_per\", \"asian_per\", \"black_per\", \"hispanic_per\"]\n",
    "\n",
    "correlations[race_fields].plot(kind = \"barh\")\n",
    "plt.axvline(x = 0.25, c = \"grey\")\n",
    "plt.axvline(x = -0.25, c = \"grey\")"
   ]
  },
  {
   "cell_type": "markdown",
   "metadata": {},
   "source": [
    "All of the correlations we observe here are somewhat significant in themselves, and particularly interesting when we compare them with one another.\n",
    "\n",
    "There is a weak negative correlation between a school's mean SAT score and the percentage of hispanic and black students at that school. Conversely, there is a moderate to strong positive correlation between mean SAT score and asian percentage, and a strong positive correlation mean SAT score and white percentage.\n",
    "\n",
    "What can we conclude from the above correlation? Not much just yet. We do know that students from schools with a higher percentage of hispanic or black students perform worse on the SAT than students in schools with lower percentages of students of those races. But, we do not yet know why that is the case. There may be a factor which is the cause of both a high percentage of hispanic students and poor SAT scores (e.g. the wealth in a particular district). Or, the hispanic students may perform unusually well on the SAT test, but the school's average SAT score is dragged down by the performance of other races (though this is certainly unlikely).\n",
    "\n",
    "The point is, we'd need to look at the data in more detail to establish such causal claims, and we may even need to look for additional data beyond what we have to establish the hypotheses we propose. This is a major issue with certain statistics - they are inherently static and information reducing. That is, when calculating something like the mean, we've got a new number which says something general about the data set (and was not immediately obvious when looking at individual entries in the dataset), but if we only look at that number we've essentially collapsed hundreds of data points into a single data point. Sometimes this is helpful, but other times it will obscure important information present in the data."
   ]
  },
  {
   "cell_type": "code",
   "execution_count": 23,
   "metadata": {},
   "outputs": [
    {
     "data": {
      "text/plain": [
       "<matplotlib.axes._subplots.AxesSubplot at 0x2a659780f0>"
      ]
     },
     "execution_count": 23,
     "metadata": {},
     "output_type": "execute_result"
    },
    {
     "data": {
      "image/png": "iVBORw0KGgoAAAANSUhEUgAAAY8AAAELCAYAAAAhuwopAAAABHNCSVQICAgIfAhkiAAAAAlwSFlzAAALEgAACxIB0t1+/AAAADl0RVh0U29mdHdhcmUAbWF0cGxvdGxpYiB2ZXJzaW9uIDMuMC4wLCBodHRwOi8vbWF0cGxvdGxpYi5vcmcvqOYd8AAAIABJREFUeJztnXmcHGWd8L+/7p7pXOQwASQXQZKsJnlJ1JGgcZFDWeR0F2QVENaL111wUVHwWDYc674Cyr4qLC7XCiuiAdSEQ13kEBO5AiQxCQizXJmElyOEQK6eme7f+0dVTaq7q7qrj5qu6fl9P5/A9NPVVU9dz+/5nY+oKoZhGIZRC6lWd8AwDMMYepjwMAzDMGrGhIdhGIZRMyY8DMMwjJox4WEYhmHUjAkPwzAMo2ZMeBiGYRg1Y8LDMAzDqBkTHoZhGEbNZFrdgbiYNGmSzpgxo9XdMAzDGFI89thjr6nqntW2a1vhMWPGDFauXNnqbhiGYQwpROSFKNuZ2cowDMOoGRMehmEYRs2Y8DAMwzBqxoSHYRiGUTMmPAzDMIyaMeFRwuZtOVZveIPN23Kt7ophGEZiadtQ3XpYumoj5922ho5Uir5CgUtPOIDjFkxpdbcMwzASh2keLpu35TjvtjXs6ivwVq6fXX0Fzr1tjWkghmEYAZjwcOnZspOOVPHl6Eil6Nmys0U9MgzDSC4mPFymThhJX6FQ1NZXKDB1wsgW9cgwDCO5mPBwmTgmy6UnHMCIjhR7ZDOM6Ehx6QkHMHFMttVdMwzDSBzmMPdx3IIpLJo5iZ4tO5k6YaQJDsMwjBBMeJQwcUzWhIZhGEYVzGxlGIZh1IwJD8MwDKNmTHgYhmEYNWPCwzAMw6gZEx6GYRhGzZjwMAzDMGrGhIdhGIZRM7EJDxGZJiL3iciTIrJORM52298mIneLyDPu/ye47SIiPxCRbhFZIyLv8e3rdHf7Z0Tk9Lj6bBiGYUQjTs2jHzhHVd8FHAScKSJzgK8D96jqLOAe9zPAR4FZ7r8zgKvAETbAYmAhcCCw2BM4hmEYRmuITXio6kuq+rj791vAk8AU4HjgBnezG4CPuX8fD9yoDg8B40VkH+CvgLtV9XVV3QLcDRwZV78NwzCM6gyKz0NEZgDvBh4G9lbVl8ARMMBe7mZTgA2+n/W4bWHthmEYRouIXXiIyBjgNuBLqvpmpU0D2rRCe9CxzhCRlSKy8tVXX629s4ZhGEYkYhUeItKBIzhuUtVfuM0vu+Yo3P+/4rb3ANN8P58KbKrQXoaqXq2qXarateeeezbvRAzDMIwi4oy2EuA64ElVvdz31TLAi5g6HVjqaz/Njbo6CNjqmrV+CxwhIhNcR/kRblvi2Lwtx+oNb9jStYZhtD1xlmRfBHwK+JOIrHLbvgl8B1giIp8FXgQ+7n53F3AU0A3sAD4NoKqvi8jFwKPudhep6usx9rsulq7ayHm3raEjlaKvUODSEw7guAXmmjEMoz0R1UD3wZCnq6tLV65cOSjH2rwtx6JL7mVX3+5lbEd0pFhx3mG2NohhGEMKEXlMVbuqbWcZ5nVQap7q2bKTjlTxpexIpejZsrMV3TMMw4gdW0mwRoLMU4tmTqKvUCjarq9QYOqEkS3qpWEYRryY5lEDm7flOO+2NezqK/BWrp9dfQXOvW0NAJeecAAjOlLskc0woiPFpSccYCYrwzDaFtM8asAzT+1it5bhmaeOWzCFRTMn0bNlJ1MnjDTBYRhGW2PCowamThhZ0Tw1cUzWhIZhGMMCM1vVwMQx2SFhnrJ8E8Mw4sY0jxpJunnK8k0MwxgMTPOog4ljssyfNj42wVGv5hDm0DcNxDCMZmOaR8JoRHOo5NBPmoZkGMbQxjSPBNGo5lDNoW8YhtEsTHgkiEYz1YeKQ98wjKGPma0SRDM0h6Q79A3DaA9M80gQzdIc4nboG4ZhmOaRMExzMAxjKGDCIwY2b8s1NPhbprphGEnHhEeTsSQ9wzCGA+bzaCJJSdKz8iSGYcSNaR5NJAlJerVoPo2a1wzDGL6Y8GgirU7S82s+ngA797Y1LJo5qUw4mHnNMIxGMLNVE/FCbbOZFKM602Qzg5ukFzXJMCnmNcMwhi4mPJqMev/V3Z8Gi6iaj625bhhGo5jwaCLejD7Xr+zoy5Pr10Gd0UdNMmy1ec0wjKGP+TyaSBIc5lGSDD0hc26Jz8Oc5oZhRMWERxNJyow+SpKhZbIbhtEIsZqtROR6EXlFRNb62haIyEMiskpEVorIgW67iMgPRKRbRNaIyHt8vzldRJ5x/50eZ58bYahVtbUaWIZh1EvcmsePgSuAG31tlwIXquqvReQo9/MhwEeBWe6/hcBVwEIReRuwGOjC8UA/JiLLVHVLzH2vC5vRG4YxHIhVeKjqAyIyo7QZGOv+PQ7Y5P59PHCjqirwkIiMF5F9cATL3ar6OoCI3A0cCdwcZ98bwWpTGYbR7rTC5/El4Lci8l0cs9kH3PYpwAbfdj1uW1i7YRiG0SJaEar798CXVXUa8GXgOrddArbVCu1liMgZrh9l5auvvtqUzhqGYRjltEJ4nA78wv37FuBA9+8eYJpvu6k4Jq2w9jJU9WpV7VLVrj333LOpnTYMwzB20wrhsQn4kPv3YcAz7t/LgNPcqKuDgK2q+hLwW+AIEZkgIhOAI9w2wzAMo0XE6vMQkZtxHN6TRKQHJ2rq88D3RSQD7ALOcDe/CzgK6AZ2AJ8GUNXXReRi4FF3u4s857lhGIbRGsQJbmo/urq6dOXKla3uRiSsNLphGElBRB5T1a5q21mGeYux0uiGYQxFrDBiC0liaXRbhdAwjCiY5tFC4iik2IgJzLQgwzCiYsKjhTS7kGIjg38tqxAahmGY2aqFNLOQYqMmMFsgyjCMWjDNo8U0q5BioyawpJSTNwxjaGCaRwJoRmn0Rgf/oVZO3jCM1mKaxxDH7yBvdHVAKydvGEZUTHgMYYIc5CvOO6yhwd/KyRuGEQUzWw1RwhzkgK0OaBhG7JjwGKJYdJRhGK3EhMcQxaKjDMNoJSY8Ek5YuRCLjjIMo5WYwzzBVMsYt+gowzBahWkeCSVqxngjOSJWBNEwjHoxzSOhxFE00Y8VQTQMoxFM80gocTrEk1gK3jCMoYUJj4QSp0PcwnwNw2gUM1slmLgc4hbmaxhGo5jmkXCaUTQxaJ9RtRpzqhuGEYRpHi2ikRX/mkEUrcac6oZhhGHCowXUOijHJWgqFUG0lQUNw6iECY9BptZBOe7Zf5hgijtU2DCMoY0Jj0GmlkE57tl/JcFkTnXDMCpR1WEuIqNE5HwRucb9PEtEjomycxG5XkReEZG1Je1fFJE/i8g6EbnU1/4NEel2v/srX/uRblu3iHw9+uklj1oG5ThDaqvleljtLMMwKhFF8/hP4DHg/e7nHuAW4I4Iv/0xcAVwo9cgIocCxwMHqGpORPZy2+cAnwDmApOB34nIbPdnVwIfcY/9qIgsU9X1EY6fOLxBOcqKf3HO/qNoQFY7yzCMMKIIj/1V9W9F5JMAqrpTRCTKzlX1ARGZUdL898B3VDXnbvOK23488DO3/TkR6QYOdL/rVtVnAUTkZ+62Q1J4QPRBuRZBUytRBZOtLGgYRhBRhEeviIwEFEBE9gcaCfqfDfyliHwb2AV8VVUfBaYAD/m263HbADaUtC8M2rGInAGcATB9+vQGuhg/UQfluGb/cQomwzDanyjCYzHwG2CaiNwELAL+rsFjTgAOAt4HLBGRdwBB2owS7JfRoB2r6tXA1QBdXV2B2wxFvAHd83U0a4A3s5RhGPVSUXi45qmngL/BGewFOFtVX2vgmD3AL1RVgUdEpABMctun+babCmxy/w5rHxbEGa5rZinDMOqhYrSVO8D/SlU3q+qdqnpHg4ID4FfAYQCuQ7wTeA1YBnxCRLIish8wC3gEeBSYJSL7iUgnjlN9WYN9GDJYBVzDMJJIlNpWD4nI++rZuYjcDDwI/IWI9IjIZ4HrgXe44bs/A05Xh3XAEhxH+G+AM1U1r6r9wFnAb4EngSXutsMCq4BrGEYSieLzOBT43yLyArAdx3SlqnpAtR+q6idDvjo1ZPtvA98OaL8LuCtCX9sOS9YzDCOJRBEeH429F0YoFhVlGEYSqSo8VPUFEZkP/KXb9AdVXR1vtww/FhVlGEbSiFKe5GzgJmAv999PROSLcXfMKKZ0XQ9bZ8MwjFYSxWz1WWChqm4HEJFLcJzgP4yzY0Y4S1dt5Nxb15BOCfmCctmJts6GYRiDS5RoKwHyvs95ghP6jEFg87YcX71lNbn+Ajt68+T6C5xzy+pYNBDTbgzDCCNqYcSHReSX7uePAdfF1yWjEus2baUvX5w835dX1m3aysGz9ypqb2QRKVtF0DCMSkRxmF8uIvcDH8TROD6tqk/E3TEjjDClr7i9kcHfVhE0DKMaURzmBwHPqOoPVPX7QLeIBBYmNOJn7uSxZEruWibltHs0mpVuiYmGYVQjis/jKmCb7/N2t81oARPHZLn8pAVkM8KojjTZjHD5SQsCl5D1U8vgb4mJhmFUI4rPQ9waVwCoakFEbPnaFlIt76PRwb/WxMRGfCuGYQxNogiBZ0XkH9mtbfwD8Gx8XTKiUKkabjOy0qMmJppj3TCGJ+JTKoI3cJaJ/QFOJVwF7gG+5FsBMJF0dXXpypUrW92NlhK3RrB5W45Fl9zLrr7dWs6IjhQrzjvMNBDDGKKIyGOq2lVtuyjRVq/glEE3YiKuQb4Za3VU6luUddANw2hPqgoPEbkU+BdgJ06p9Pk4msdPYu7bsCDJZp9qfRssx7r5VAwjeUSJtjpCVd8EjsFZ7W828LVYezVMSPJCT1H65vlWRnSk2CObYURHqukVf5eu2siiS+7l1GsfZtEl97Js1cam7dswjPqJ4jDvcP9/FHCzqr7urE5rNEqSzT5R+xZnxV9LVjSM5BJFeNwuIk/hmK3+QUT2BHbF263hQZLyKUpNQ7X0La510JMsXA1juFPVbKWqXwfeD3Spah+wAzje+15EPhJf99qbwTD7lBJU7DDINNSKvpUSp3C1oo+G0RhVQ3Wr7kDkcVV9T5P60zQaCdUdbAftYB0vyAG+aOakiuG2rXZWL1u1sSxfpdGAgrBAgFafq2EkgaaF6kY5VhP2kRhaEf3ULLNPpcEvzH9w9afeW9E0FJdJKirN9qmEXYe3dvVz8Z3rExn1VgkTeEaraIbwaEx1SRBhA8ucfcayvTef2Bd087YcNz38Ilfe9wyd6XTg4BfmPwBJjN8ljGYKsKDrkE4JF96+jt68DinHfJLDvI32J0qo7rAhqKAgwFE/+ENTQkXjsLMvXbWRD3znXi6/+2ly/RoaVhvmP5g7eWzLfRtx47/ugdchr3Skh1YV4c3bcpx7azLDvI3hQZQkwayq5iq0PR9Hx1pB0MDi+QJ68/1A/TPSOGaJnqaU6y+UfVcalVSp3lWc4batJEwjK70O5x8zh4vvWF/026RpX6Xc9PCLZffdItGMwSSK2epBoNQhPtCmqn8T9kMRuR4nufAVVZ1X8t1XgcuAPVX1NXGSR76Pk0+yA/g7VX3c3fZ04J/cn/6Lqt4Qod81UzrA5vIFRJWcb+W+el7QuPIVgkwwHkGDXyUhMRi+jcG0z3vrvHsDbK5/t/Bfcd5hrDjvsKK+7JHNNFRIcjDZvC3Hlfc9U9bem0+2wDPai1DhISJvB6YAI0Xk3ex2jI8FRkXc/4+BK4AbS/Y9DfgI8KKv+aPALPffQpwqvgtF5G3AYqALx7/ymIgsU9UtEftQE/4BdnRnmmOuWA4+4VHPjDSufIUgTQkgm5HQwa9VDvDBtM9H0cjmTxs/aMmOzaZny0460+kBgehx1qEzE91vo72opHn8FfB3wFTgcl/7W8A3o+xcVR8QkRkBX/0bcC6w1Nd2PHCju3bIQyIyXkT2AQ4B7lbV1wFE5G7gSODmKH2oB/8A22hpc4gvX6FUU+rNFzjr0JmcvHB60waRZmgLg50pXqtG5tHqyLKoBD1P2Yxw8sLpLeqRg0V+DS9ChYdrGrpBRE5Q1duadUAROQ7YqKqrS8qcTAE2+D73uG1h7YNCozNS74Xy7OrNNovEOWN2TD+rSUuKvBa47MT5dWkLg50pXo9GNpRoxnotzcYiv4YfUUqy3yYiRwNzgRG+9otqPZiIjAK+BRwR9HXQ4Su0B+3/DOAMgOnTmzcLq3dGWvpCnX/0HOZNGZfI0uulbN6W45wlq3AsP3kAvrJkVV3awmCXYRkMjazVJMnMZjXIhidRoq1+hOPjOBS4FjgReKTO4+0P7Ad4WsdU4HERORBHo5jm23YqsMltP6Sk/f6gnavq1cDV4GSY19nHphD0Ql185/rEL5TkaUobXt9OqcugvwDrNr3JwbP3rGmfrZgp1zu4DiXTS1LMbFaDbHgSJdrqA6p6gIisUdULReR7wC/qOZiq/gnYy/ssIs/j1Mx6TUSWAWeJyM9wHOZbVfUlEfkt8K8iMsH92RHAN+o5/mCS9BcqaJD0a0q7Spyxu6lPJrdiplzr4Gqml/qoRbMcSsLZqEwU4eFV0N0hIpOB13G0h6qIyM04WsMkEekBFqvqdSGb34UTptuNE6r7aQC3BPzFwKPudhd5zvMkk6SKuaWE1bgq1ZRK6UgLcyePq/u4SZkpB5Fk00vSB9yomqUJ5/Yiakn28Tg5GY/jTD2vibJzVf1kle9n+P5W4MyQ7a4Hro9yzKRQbnfPc+YhM1vdrQo1rrrKNKVsWlCETFrIF5TLThz6zuYwkqopDpUBt5pmmWThbNRHFOHxFJB3HedzcJIDfxVvt9oD74Vyspy7ufqBZ7ny/u7QAaBaYcMos89q24XXuNIyTUlSwp1nfTC0rlfSZ8S1kERNcagNuJU0y6QKZ6N+ogiP81X1FhH5IE5i3/dwE/hi7Vkb8e/3d5PrLwwkrQUNAJVmmFFnn1G2C69xNS7Q9DBz7z0Cz2mozIjDKBV89Tj14xae7TTgJlE4G40RRXjk3f8fDfxIVZeKyAXxdam9iDIAVJphApFmn1Fnqc2ocTXUZsSlhAm+Wpz6gyE822nATWJuitEYUYTHRhH5D+DDwCUiksWq8UYmygBQScB4f1ebfdYyS220xtVQnhFXE3xRzj8O4RmkxbTbgJuk3BSjcaIIj5NwyoF8V1XfcEuGfC3ebrUPUQaAagImyuyz1llqI5FPrZoRN8NM1AzB12zhWUmLaXTA7X75LVZteIMF08aXmSBb4bNKcsSdURtRMsx34MvrUNWXgJfi7FS7UW0AqCZgosw+B3OW2ooZcbPMRM0QfM0UnkFazNduXc34UR3MnTwusjYUxD//6k/c+NDu2qOnvX86Fx3/v4Ch77MyWk/Da5gnlUbWMG8VzYy2Gt2Zrnv1w2ZFdjWLzdtyFddZr5VmrIte7z5Kr9nqDW9w6rUP81auOClzVGeagmrdg3r3y2/x4X97oKz9d18+mAmjO5t6PZNEO0UAtorBXMPccGn0wa00w4w6+5w4Jsvy7tfqnlXWMiMdLBNEs81EzbC917OPsOTMoCKOO3qdOJV6fSmrNrwR2j5r7z2GrM+qEqZNDS7m+G4SS1dtZNEl9zZludpG8JtBal2etJHfRu1b6TK8UZbmjcPHMnFMtmxNjzj24Z1f98tvBV5bYGAZ4FEd6bLf17sc7oJp40Pbp04Yya7+fFH7rv78kIzi8oj72TXKMc2jCSQpdLWRWXqcUVRBs0KFSDPFoRp15D/nXH+eVKq4QLR3bT0tZt2mN/n8jSuLFrGqV0jO3HsPTnv/dG58sNjnMXPvPdi8LUepuXqom6+HcgTgUMWERxNI0oPbyCw9riiqMKcwCLn+aAI3rjDPuGzkQefsX5ESiq/txDFZDp69J5ed2DwhedHx/4vTDppRFm3Vs2UnIzsyRX6WbCbNfU+9wqHv3GtIDrbtlBMzVDDh0QTifnBrGeAamaXHNcMPEq5pSZWt1FJN4DbbxxKnjbxny060UCws0gLpdIpsOvzaNltIztx7j7IQ3aDndXtvngtuX8c/LV07JH0FQ1U7HcqY8GgCcT64UQa4UuHSyAAUxzoYQYNVXgugxdKjEYFbqwYRt6lxdGeaXImmkVf4+WcPpCOTrtjPSkLSf55AXffY/7ymRdjuOue35Rpz0rcaS0IcXEx4NIlmPLilA2CUAa5stcJj5jBvsrNa4fwQp2k1ap3h+/sQtGpfmHD1zqdRgVuPBhGnqXHzthyrNrxBNiPk+ncLkBEdKToy6brvS/F6K3lUlZEdmbq0Ju95ve+pV7jg9nUDggMavw6NmALjjFhsNe0WRmzCo4k08uAGDYD7ThxdcYALEi7f+uVaRnem6S8UOOvQWbEvvRrUh+/d/TRX3PdM0ZrnYcK1GQK3Hg0iSBvqzTceceTdx0yqWHD4j1sPgT4UGPBb+M+5lkFqr7FZ+vLNM7k2Ygps51Dbdjw3C9VNAGFhhqM70xV9Kd7suZTtvXly/cr37n6a9/+fe/nmL9bQ/fJbsfQ9rA+5fi0LlQwKbW00ZDbo+FHCWz1tKOP7aUFhRfdrdfUDiu+jfyY/ujPNiI5UQ6bMsOvskUJYt+nNyCHj3nZn3vQEBYVMCvbIZhrqZ5LDxFtJu56baR4N0Cw1NMyEsr03X9GXEjR7LqU3X+Cnj2zgp49sKCpP0Swq9WEwIs4aCVZYNHMS6VSKfvf3fXltyN4fdB9HZ9NceOzc0CimqD6Mavd6R1+ez92wkoIW6C9QFNUWpQJzNpPiylPew9zJYwetbpi/GsKqDW+QCQllHuomniRFYzYTEx510kw1tNIAOH/a+IoVcAccnylhey5fuusibnzwRU47aEboGh31MHFMlpO6phblE5SeQ5w0EqzQs2UnIsHt9bzUgYEBBQ0VHP5naGdfPyLCiEw68HkqPc9d/XkKBS2K/u3NlwuXXL/y04df5IuHzyo6v9LBrDOdYtzIjoYGs1oEuXfuWlByeS3zD1X67VCjXcOITXjUQbMjdaoNgJV8KX5fwtqNW7nojnWBtnaPVRveaKrw2Lwtx5KVPWXt2YyUDeJxOQxrCVbw92F0Z7qovhPArr4CozvLM70r7adaYEDYrLvch6H05ct9GKXnuW7Tm4CycctOvvHLtVX7esV93Xx03tsHap3FNZiVnn9vvhC49LL/3D38z+zobJp8QesynyXRKd2uYcQmPOogDjW0kWgtT7jMnzaeI+e9nZ8+/CI/vLc7cCYaVraiFvwvaJBvoTOd4prT3svBs/caaIuqqdX78kcJVijtw5mHzCSblqKQ2mx6d+hq1P3UU0I96Bnyk05JYNKev26ZPxO9EiJw1A/+QNan1VQazBoZgIuXXn4mcOnlSuc+urOyma8SSXZKt2MYsQmPOohz5tboQzVxTJYvHu5EWZ2/9E/c9aeXB77zylM0QukL+pWPzC6bvffmC0wet/taRNXU6nn5a6kAXNqHK+7rLktUlJRUvI9RziXKfazmw9iey7N4WXHSXljElZ+0QCZdLFi8+9Pr02pWnHcYK847rOzaNWsAdpZeVnL95ZpUpXPPa7iZrxJJKhEURpLDiOvBhEcdVFJDqw1mQd/HoWpPHJPl30/pKloMaMLoTlZveIPRnWk2bd0FKHMnjwOIVMY96AX97n8/TWda6K0we+/ZsrOqM3Tzthzn3romcrkScAa6c29dTVpS5LUwEBocdD17tuwkXeLg6EynOOPgd3Dl/d0VzSx+qmmdUe9l6TPk+Tw6M6kB39X2ksq6Yb6KfKFAJpVCKbD4uHm8vq2XK+7rdsKF8wVSqvT6xmqvv1MnjGTrzj627uwdeA5K7+9Xlqxi8rgR7OjL8+bOfsaOzAysM1LvNfLO/Wu3rqGgSl9eGdHhRJKFvUfVrmu11TirLXXgPfuNLGUw3DDhUSdBami1WVul4oBpEfryBRYfO5dTDtq3af30ylN4xwaKNIV0ShCUtDjmG/9LXDrjDHxB00JfiY+ldPa+duPWotBVKNfUbnr4xTIzTLVInXOWrML5ibPvryxZxVu7+rn4zvVl92Dtxq1l5qi+QoGTF07n5IXTK5pZ/FTSOsNKrocNXKXPEMB9T73C4mXrivqaFseEtWDa+IDcFOdzGlCExUvXMrIjQ3++QL4gZDOpwPNeu3ErJ1y1Au+SZ1Jw9uGzy+5vfwFO/I+Hiu9LWvjex+eHaiRRNHN1/9uRSiHkOfOQ3YmlpdfxpK6pLFnZU1EbCjvm2o1b+durHwz8bek7kUk555tNC5KSRJm9kogtBtUkqi1YFPR9NpMCtMzB/c2PvpMzPrR/rH2rRtDiQGHneP7RcwIH7ErH/vZfz+OUhfsObPOB79xTdh2ymRR//HrwAkUPPP0qp13/SFl7ZzpV5OvJZlLc+cUPcswVy8v78LF5nHLQvjUvNhW0ENSimZPK9uGZkDrTtZnhgq7XmGya/oJyUtdUfv5oT2R/h5/RnWnyqpx/zBwuur08sCItgHqiuDKV7g1UXiyr0vUGqj6rYfem9JjnHzOHi+9Y3/TjtDuJWAxKRK4HjgFeUdV5bttlwLFAL/A/wKdV9Q33u28An8V5fv9RVX/rth8JfB9ngnWtqn4nzn7XQzVVPbA4YErQAnjzMI9//fVTjM5matJAKqn11ZyzQQTN+sPMdcctmMKR894eePwgc9HozjTzXDOJt01nOj1gH/c469CZFV7c4ElPOkXR6JfrL3DV77sD8y/mTdltsqslACJI61y94Y2yfeQV8v2FgYE+ig2+KPw6oO7UkpU9XHDsnEhRVn6y6RT/cMg7+MSB+9KzZScpXEnhI1/DPDKdkooBIpUcxNVMTNWe1bB7U3rMuI5jOMRttvoxcAVwo6/tbuAbqtovIpcA3wDOE5E5wCeAucBk4HciMtv9zZXAR4Ae4FERWaaq62Pue01UU9WnThhJb754TpcvKAUNfngXL1vLwv3eVubgDhIS1cxlUZIJSwkLAAgbFMKcgUHmorxq0b6D+pfNCCcvnB7av7mTxzkmM9+Il0k5WeKl3Pb4JjrSxQIsX9Cie1NrAETp+Tr3t/I1jjoYVao7lU4JK59/veLvg8jlC1z238/w8ls5zj58Nv0hz11U/Nd+Mk0NAAAgAElEQVQvjLBnotr1rvas+rctfR9Kj9ms4xjlxFqeRFUfAF4vaftvVfWmmA8BU92/jwd+pqo5VX0O6AYOdP91q+qzqtoL/MzdNlF4M8YRHanAMg/Lu18rGtgyKbjsxAO44Nh5gfvrL8BRP1xeVF4iqPREUOmDr926uqwsiNc3z6fhJyWOnRecQbsjLXz6AzMqnmuUkiKbt+W4+M5yGX/+0XMCNRr/tbvsxPlVZ+jf+/h8OtOOXb8zLVx+0gLOOjTY4V0oKNlM8L2pdu+qsXlbjpsefpH+KsKjlsFo4pgsh75zL/pLpOH2XJ5fPrEp8DeZ8ir3Zdz44Its2d4b+txFoSMtXHZi5etTaYXIStc76LvT3j89cNtqpViiHsd7J7xSNdm0NFxOZjjQaof5Z4Cfu39PwREmHj1uG8CGkvaF8Xetdvyzci9qw3t5zrttTdEsOZ1KDZgwtuf6+ddfP1W2v97+Al+7dQ3jR3UyedyIwFDEqz/VVaZ+B2UV704w28rnbngUvzLQkRauOa2LJ196i8t++2f6C8pVv3+Wa/7wLJeftKBup2FYuQ7PXBR27aJGuiggIqRTgjdun7xwOj+495miaw0woiPNVae+l3EjOyI5r6Mc3xMaV9z7NFVSQ8hmah+MJo7Jcv4xc/hWiYkqSESdfOA0PrNoP47+4fKq/pBlqzdx+gdmgMCFy9aTShFq+8+k4GefPyhStJWnBazduDXUB+ZR6XoHfXf24bNrrjhdy3Es2qp2WiY8RORbQD9wk9cUsJkSrB0FWmdF5AzgDIDp08NNHnEycUy2KJHLS0YrHUQz6d1JYGd8aH9GZzMsXraW0vc+11/gC//1GP2FQoiVX8vMYeDkMJRW1J04Jsu4kZ1Iqb1bAYTL7366aKbbXwiujRSVsHIdYbPvWuLgvcHDP1B6+QsXHDe3bMDNq1at21TL8Z0w4TUVB+pRHWny2lh143mTxw0MaGFkM8I5R/zFQEh0tXJ71y1/lqv/8CyXnnAAD37jsIEBf/GydWWaTjaT5vnNO6rmXnimU7+fxnvev3rrGubsM7bMBFvpepd+V/q5Fj+V/7fVzFxGdFpSVVdETsdxpJ+iu8O9eoBpvs2mApsqtJehqlerapeqdu25554N9bGS2l3pNw88/Srn3lpsRrrivmfK7OFeEpinbp9y0L785uyD6cyU35IdfXl681o2m97V5yTjnXXorLLfdKaDK8sGLVKUyytv7uwjnSqX32mpXqE2jEbNQZWoVE33lIX78u2PzaMzLU2paOt/Fvz3uJLgSAv86FPv5Y9fP5wvHj4rML8gyvM1dcJI8iURkR1pIZuRMhPf1Akj2dVfPVZqe29hoLIrwPxp493n7y/LfEPeCoOVKvT6tYAgIdfbX+CoH/yBmx56oeZ3Kowwv8noznToMaJWHE4i9YxHcTPomocbOXUe8CFV3eH7ahnwUxG5HMdhPgt4BEcjmSUi+wEbcZzqJ8fZx3qybL3fpNx1uf10ptMDyWj+Aobei/bVW1YPzMy+665hnRJhRxVbSFqcfZy8cDpX3NdddNww+/r23jwjOlJl4YtjR3aQD/A257Uxp2FcZRmqOV1POWjf0AiwMKoFI3jFCNOp4qTIIFIpCdV0anm+wiLc5uwztmht8s3bcqzbtJUwP3haHNPZjpIcH38JlJl778H3Pj6/5hUGo0Tz9eaVb/1q7UDIcbV3qlpSYNB1Oem9UznmiuWh4cFJz0API6llV+IO1b0ZOASYJCI9wGKc6KoscLc4IZwPqeoXVHWdiCwB1uOYs85U1by7n7OA3+KE6l6vquvi6nM9D1lQoTc//mS0oCSw3rxy1A+X890TDyjyTXz+xpUVixzm1dEkJo7JctmJ0QqvhQmCuZPHctmJB3DOLasHNBzHqV/ZcR2FOEwDYYNqJVNHJcIS/ILKgeQjxLSOyKQDTSj1PF+lAnh592tFg6SXRJcSCR2+R3Sk6QtwvpeWQDluwRTm7DOWZas3cd3y54qe0zCzUC3RfH5BNGefsYH+haiDZanPwsvlCbquQ7UsepKFXqzCQ1U/GdB8XYXtvw18O6D9LuCuJnYtlHoesrCZ16jONAUtrg566Dv34p+WlsfoO87x1Ywf1cHcyeM4ePZeXHbi/IHBMdefR6HIdDWiY3f2cNQZfqVBV3Eir0Z2pOgvKBccN7dpM5w4liZtllYT9oIGBSME0ZkWCkqRvyBM86u3vIknCIP6GlQOv5T+gvLZRTO4fsXzpAR2uhOd0hIov1n7/7jwjvV0pBzzlp+wcyp9pnrzeT75vunc9PALVMpLLS3WGFa/q9Jg6V2XoDwb/3WNox7dYFTwTbLQa3W0VeKo5yELy1M4/+h3kesvMGefsQPt3ov21VtWl5k+cv3KF37y+IDACZpZlfo96nn4gwbd3Q5oxXOmX3zHeo6c+/aGH9I4lyZthlYT9IKmRHhzZ1/VGXVa4PKTFvDca9u54r7uomxyf7/8NZRqKW9SWqsrasJnR0roKzjlZvIFJV8ocP3y58jltazOmLN9imv+8Cw/+v2zgJPB6xGlRHpxNd1ubnt8I4iQSSnZTLnDv7RYo+dU396br2uwrPbeRtFUa2GwTElJXgvEhEcJtTxk/pe69Ddd+04oygL2r+LnmQaO+uFyekv8Izt6g+3LPVt2ctz8yUVrZ5zUNTXQNh/lYW4keqXSdajVTNPIb5tF0Au6ozfPObes4m/fN40lK3uKfAB+8urU1MpmnOpSZxz8jrLIqii1mqC8KOG5t60pqtXVm8/zmUX7VU1GzGZSXHNaF5PHjWDT1p2O+TMP/e6koDSiCpz1269b/lxZe0eKmkqkO9V0d2fVZzMprjr1vWzYsoOL73DOI5cvIKpFgRueU33xcXPrGiyjvLdxa6pxmJKaLfSaiQmPAKI8ZKUDwvnHzOHqT3UByqiOdFkxOf8qfpu35djem2fxMU5NqBTCjr7igckbuL2w36DBa8nKHs4+3EnCb/RhrneGU01oVRJKpSHNtfy2kZcnKFzTq/LqDzrI9StLVvZwx1kfZHtvnt+se4mr7n+2bH+9eR2YQV95f3dRZnzQQOPfZ6XyJumUcOHt6+jN60D7Vb9/lrQ4ZViCZEinm8B38Gwn2nB7bz6w9IvHqI40BZQzD5nJVfd3l2m2fQVnDZgo1zusBA8opyzclyPnvr1Iiy6th9KbVy6+Y31grbQox4/y3salqcZpSkrqWiAmPEKo9JAFDQjf+uXagcJzR897e+Dvlne/xrqX3iwTOtMmjHKd48XRUqM70xUd8ZXq9NT6MNczw4kyA6sUUllNI9m6s69slu0JtHrtzWHC7rgFUxg/qpMv/NdjRYK8I+X4leZPG8/UCSO5fvnzFUN0S6972EDj7dMj8DrllY50qrysjTqRI6V0ZlL89LMH0pFJs3lbLtTW75HNpPjRp97L3MmOWfWH9z4TuM2mrTsjJc6FaXCfv3HlQLl87/eXnnAAX711TZnm3ZFKMW/KuMC1RqIwGHkbrTAlJTEfpSV5HkOdoBwDcGZ5u/oKLF0dXD4im0mVlRK5+I71A5FOpfkQnv03DO+BbdbDfNyCKaw47zB+8rmFrDjvsKo23Eq5Fh6eUMpmUozqTA9kWgedm/dbLx7/zJseJ18o0JGWouuyvPu1uuL1g0q5nHvbmoHY+bmTx5LX8OvoRbV59ymbSVGaltObL7B1Z9/APqPem6CcmMXHzinL8fAICvj62IJ9OPX6Rzj12of5wHfu4ZJfP8m6TVs5/+g5jOhIDZSg8UpyeBqKNzAtPnZu2T4Lqnz+xpWRrrX/XvvJ9WvRdQbnWbvrix+kJK2EnX39AwIjSgmcVlBP/lIS8zQaxTSPOqgWmpjNpMn35osywlMCUyaMDNUQwkolBB0nyIHZLLtoLTOcqAOjt3YDujuzfXRnmlxJQluYRpLNwJWnvHtgwSKvlHatJrows4qnKQTVH6tmN1/R/drAdd/VnydfKHDmTY8XaTVR743nC/Pnb+yRzfC1W1dXDNkGJ7LvV09sKjNxXfX7Z+lICxccN7coWz1oRn/KQfs6JUtuX09HWujPO472XJ7AFQGh3ARYSYMr1YQnjO4klZKi0GeRatW5kkEtpqSk5mk0igmPOvCbePxJfx55Vf7lr+dx4bJ1iAiqync/Pp+5k8eFDrZektcf/2cz/7ni+YGonVLn6vlHz2HelHFlD+yimZMGfC7VVnqL4zqEDYzFUVzOdTrnltWkxEmkI69Fi+8ERdt0ptOMG9kZ7huQ8vW+g8xaQcJuey7Pb9a+NCC0guqPBZ23t8+yvJw8vJUrHmijDjRhg8yimZP46cMvDkRz9ebzFLQ4bLu/EGziAme7i25fX3H9DQ+/b2Lrzj4+f8OjA452cMrLrNu0lYNn7xXa37mTx1JaTCdoUtGzZScjMmn68rv9MaX5MYMRDlsvUSZaSc7TaBQTHnXiHxDCCsH5HYSes7t0sD3/6Dnc9PCL/OCep4vqWnl29SUre/jJZw7k+c07BmajpbRyZlNtYAya7e8e9FydRIQ7z/rgQDBBtdL2ZQLALaHhJbspcO6ta9yCicplbvLlxDHBhQav+v2zXLv8ubLyLF6Jl2ov+cQxTs2wUse0f7ZdbaCpNsh469J71/n7v3uaGx/and/xsQWTWRZiLoXq62+Uns/EMVlWPre5rJRNX1753A2PsvjYeVx85/rQ/vrXJOnLF8oqKUN1zbUdZuxRnOtJFpCVMOHRAN5LNn/a+LJSGJUqjN5x1gdZteENXt/ey0V3rK/ogNWCcvJ1j5ANWY1usGc2QQ96pYExSvZxNr072bGaNlM6MJWW0PjaravLZuXn3LK7uGNYocG+gNphtfiNGvU7BZrUAjQqgC3be1nyWE/R75et3sT5R8/hwtvXBlb4jbL+hp+lqzbytVvWBH7Xm4cLb19XVocthbBu05scPHtPjlswhbd29XPhHevpzKS4+M717DEiU5ajE3avg57rsAKLzaTZA3k7C0hbhjYGbnroBTdLtzy8NpNyzCEdaSlb1zsKpUtjrt7wBqde+/CAqQRgj2yGn3xuIfOnjW/ay+CVH7+yJBEuyoPuLQ+aTjnrnecLhSKHb9iSt+s2vUmYGW7ztlzgYkmldbs8bvzM+zh49l4Vl+TNpgUVCRXUUc+zUpJfpQi+asvPeubLXH8ekeIaat4937qzl8/d8FhZlNo5H5ldVKK/ElGWLXb8cVoWLZXNOI74oGV5w5Z19Uy2sLseWNBzDU5RyAuOnRtoum2UKAN5Pe9TpeeiluWPB4tELEM7HLnpoRf41q8cs0hvwPf9BegvFMgFh90X0ZF21qrwP1ylKm+lmU2zZjVO+fHdTttallUFds9Cb19HRzpFQZ0M6BG+0hSl+6iWAzJxTDaw1Ev4gkwy8Dsnp6PcCS0px3xW73oOQSa8qPegmkbllSDZrZkEa0lTJ4wkVbIUb7VVGUuJksWeV2XxseVroefcNWiuOa28tEtY+HjQvV40c1KgxtpXY4HFqETR4Ot9n8JMu0kuPRIFC9VtIpu35bjw9sZrNqbFmSn++h//suy7UlNIWNggUDEsNaz/peGExQ7vYkrDcivt9+I719ObV7b35ukvONFnV57y7sCQ4GohtaXn7reeiEjZwjCZFAO5DOC8zH/8+uGc85HZZasLztx7j4ZCRP0hplHPw9+vFecdxoXHzWVMNiiTI5zzj9ntUzjzkJlkMylGZ9N0ZlL887FzI52Pd/9Hd6ZDs9j9q+ydsnBfrjmti5EdpaG5BR78n9cimfHCrhE4/sHO0lhel225fN3PdBDVws5rvZelBIUeJ7n0SBRM82gi3mI81cp1lzKqM0W+AJ9ZNIP37z+pqJR3lDDPoJlNtUJxpYTNqrxzCiLqgx40w/JHUEXZPqzvi2ZOIp1K0e++hH1u7SZB6Ug7izGVVgb2TA9epeO4nJX1zCzDNKpKdKacRaP897A/X6C/4EQvXXzHevbIZiqa0LzfZlLCzt58SciycFLXVP7m3VPoyKSLfrvh9Z0DRRb9XL/iOf752LkDJUnCnt1K1+i4BVNIiXDWzU+Enns9z3QQ1QbyOLSEKNGKScaERxOZOmFkYN2gSnSmhYuOmxdaOygo9j+IUqd1LbOaSir72o1bA30ztSyrWusMq5bte7bspDOdKrL/O2Grwt8fsn/VOlNxOijrnVmWDiq9+QIffude/O6pV0gLRWtyAPQWoK8/X14+Xour5vrrZIVVsg2iv6AsXbWJXzyxkUtPOGAgMz5sjXpwJgfzJlfPFK92jd6//0QyKcpW2Aza1k891XkrDeRxaQlJLT0SBTNbNZGwLN1KpFJSsejc0lUbOeaK5Vx4+3qOuWJ55GzqWrJgw1T2dZu2Bg4Of3/IO/jj16tnoNfTl1q3D4vm6ssrV97fXdRWi+mhGRnBtZ63H8+E9fmD3wEoDzzzGqD89bunlmVwj+hI8fzmHRWrEaRFuPCO9YHnXkm79PCqJ/ivV1ilBXAKLUbJFK92jSaOyXL5SQvIZoRRHWnSQlnFgVqe6Upm1koVFhq5l9Wodo2SimkeTaY8S7fAZxbtx/UrymsiVZu9NxqGG3VWEzarAilT1Ud3pjly7j5NcSY3Y3vvpf7KktVlWl/UOlOlpodmaieNziydKrU6kD9y6+MboMyr4xQvrBQS3Zcv0JlJ0esL1PDOfeqEkZFNrf7rVSkMu6Cwovu1SOde7RqVfg/U/UxH0frq7WcSGMycERMeMeDP0vVu4rv2GVu0WM5Zh84qM6mU0gw7a7XkNG8bJ0fAiYbKu+uJzJ08tuwFzGtt+QK19qWe7RfNnERKgsqMFw8WUQaUOPJmaj1vjzBfkbeksV+4zdx7jyKzy86+fkR2R7R5lWqDzt3RmMuTJ4MorfUVFCEGjub35Z+vIpNOVQztDgrTDSLoGnpaRD1mqHqp914OBoOdM2LCIyZKH7JaZi1RFg5qJktXbeTiO51krt68E4LpPXSD6dCrd9bUs2Un2UxmoCy6x1mHzizaT5QBJUnhk2HCLszRX22GvseITOi5n7JwX1AGogV78+qukOgI5ZEdmcDr5R0zKOcmr5D3re0RFPr61ZJljy8/aUHVAa+eZWqTqik0i1aUQTHhMYhEmbVEWTiomQ9DkLPUv4LgYL2AjcyaggbZsNyGaueTpPDJasIubMZdKjA9goTL6g1vDFyHUw7ad6BSgr+AIlQ2E3kRYl5+UyU8Ibx5W45zb11TUp/LqRBQacCrd5nadqcVkx4THgki6sJBzSTKQxf3C9jorKlWE0Wl80la+GSzhbd37mHCOuzaRDF9fvJ90/jxgy+EbrOrz6maDM5zV1pLDCAtlQe8MIf3YGuGSatH1YpJjwmPQSDqgxZ14aBm9mmwTGOVaMasqZmDbNLMHc0W3nGYOJau2shNj7xYcZvO9G6/yNQJI8kHhLXntfKzN7ozXRZS7BdKg0ES61G1YtJjwiNmmpmoFFefwtbU9ps04qRZ593MQbadzR3NNnFs3pYr8l2EIlLkbL/sxAM4p8TnUZrQWcr23jzZtBRV+82mg9eXj4Mkl1gf7EmPCY8YaXaiUlx9KjWNeSv1DdbMKmmmonan2ZOUdZu2VhccwOJji8uy+9dCqRZt5e+7uOvAeEhKBk1TTlJARasx4REj9Txocc8eqpnGWjWzSpqpqJ1pvrAOTjDMpJxVNfvyBRYfO9eJ6Aroy8Gz92ph32sjSQEVpbRVqK6IXA8cA7yiqvPctrcBPwdmAM8DJ6nqFnHWn/w+cBSwA/g7VX3c/c3pwD+5u/0XVb0hzn43izgSleLuUytnVu1sKkoazRTWcyePLSshkknBb84+OJZAj1ZONFotvMJoxaQv7vIkPwaOLGn7OnCPqs4C7nE/A3wUmOX+OwO4CgaEzWJgIXAgsFhEJsTc76bgPWhxlDSIq09JnlkZzWXimOaUxZg4priESDYjXH7SgoYrFFc7ZqtKelQqY9Iq6inH0iixah6q+oCIzChpPh44xP37BuB+4Dy3/UZ1Vqd6SETGi8g+7rZ3q+rrACJyN45AujnOvjeLJJpjKvUpqTMrI9kk8TmPk6RpycMlVHdvVX0JQFVfEhHP4DkF2ODbrsdtC2sfMiTtQYOhX8PHSB5JfM6HC8M9VDfI66YV2st3IHIGjsmL6dOjr5xmlNPoQJC0JCrDaHeGQ6juyyKyj6t17AO84rb3ANN8200FNrnth5S03x+0Y1W9GrganDXMm9ttIypJTKIyDKO5tGI9j2XA6e7fpwNLfe2nicNBwFbXvPVb4AgRmeA6yo9w24wE0uhyncbwoBnrpRjFLF21kUWX3Mup1z7Mokvujbz2T73EHap7M47WMElEenCipr4DLBGRzwIvAh93N78LJ0y3GydU99MAqvq6iFwMPOpud5HnPB9szBRTHUuiMqqRdM10KL7nbVdVV1U/GfLV4QHbKnBmyH6uB65vYtdqJukPfFKwUF+jEkku7wFD9z1vxaTNlqGNgJliopPE3BYjObQiHyEqQ/k9d1aDbP9Q3SGHmWJqw0J9jTBGd6bJDfIgF5Wh/J4v736N3pJlrk/qmhprv03ziICZYmqnlRnARjJZumojx1yxHHFXJxzRkUqUZurM3our8w6F99xZWGt1Wf7Czx/tiVVrMuERATPFGEZj+E1CXjn1QkG546wPJsansLz7NfxLjGRSDIn3vGfLTtJSPpSrhi+e1QzMbBURM8UYRv0EmYSymfSgrcNRDU+4+UvLp1MpFs2c1MJeRWPqhJH0F8qvY28+3kWyTPOoATPFGEZ9JN30G+TI70wnw5FfjYljsnzxsNll7XEvkmXCw2gqlvxlBJF002/ShVs1Tl44nWymeDiPe5EsM1sZTWOoxsgbg0OSTb9DvZq0t6zvYPZfVNuzBFRXV5euXLmy1d0YNmzelmPRJfeyq2/37G1ER4oV5x02ZF5AwxiK2eV+mtF/EXlMVbuqbWeah9EUhnKMvGF4DPWy8oPZf/N5GE1hqNuMDaMdGEyfo2keRlMY6jZjwxjqDLbP0YSH0TSS7BA1jHam7arqGsOPoW4zNoyhiFXVNQzDMGqmFT5HEx6GYRhDnFYkYZrZyjAMow0YbJ+jCQ/DMIw2wfI8DMMwjERjwsMwDMOoGRMehmEYRs2Y8DAMwzBqxoSHYRiGUTNtW5JdRF4FXqiwySTgtUHqTpKw8x5+DNdzt/Ouj31Vdc9qG7Wt8KiGiKyMUrO+3bDzHn4M13O3844XM1sZhmEYNWPCwzAMw6iZ4Sw8rm51B1qEnffwY7ieu513jAxbn4dhGIZRP8NZ8zAMwzDqZNgJDxE5UkT+LCLdIvL1VvcnLkRkmojcJyJPisg6ETnbbX+biNwtIs+4/5/Q6r7GhYikReQJEbnD/byfiDzsnvvPRaSz1X1sNiIyXkRuFZGn3Hv//uFwz0Xky+5zvlZEbhaREe16v0XkehF5RUTW+toC77E4/MAd79aIyHua1Y9hJTxEJA1cCXwUmAN8UkTmtLZXsdEPnKOq7wIOAs50z/XrwD2qOgu4x/3crpwNPOn7fAnwb+65bwE+25Jexcv3gd+o6juB+Tjn39b3XESmAP8IdKnqPCANfIL2vd8/Bo4saQu7xx8FZrn/zgCualYnhpXwAA4EulX1WVXtBX4GHN/iPsWCqr6kqo+7f7+FM4hMwTnfG9zNbgA+1poexouITAWOBq51PwtwGHCru0nbnbuIjAUOBq4DUNVeVX2D4XHPM8BIEckAo4CXaNP7raoPAK+XNIfd4+OBG9XhIWC8iOzTjH4MN+ExBdjg+9zjtrU1IjIDeDfwMLC3qr4EjoAB9mpdz2Ll/wLnwsCizhOBN1S13/3cjvf+HcCrwH+65rprRWQ0bX7PVXUj8F3gRRyhsRV4jPa/337C7nFsY95wEx4S0NbW4WYiMga4DfiSqr7Z6v4MBiJyDPCKqj7mbw7YtN3ufQZ4D3CVqr4b2E6bmaiCcO37xwP7AZOB0TjmmlLa7X5HIbbnfrgJjx5gmu/zVGBTi/oSOyLSgSM4blLVX7jNL3tqq/v/V1rVvxhZBBwnIs/jmCYPw9FExrtmDWjPe98D9Kjqw+7nW3GESbvf8w8Dz6nqq6raB/wC+ADtf7/9hN3j2Ma84SY8HgVmuVEYnThOtWUt7lMsuDb+64AnVfVy31fLgNPdv08Hlg523+JGVb+hqlNVdQbOPb5XVU8B7gNOdDdru3NX1f8HbBCRv3CbDgfW0/73/EXgIBEZ5T733nm39f0uIeweLwNOc6OuDgK2euatRhl2SYIichTOLDQNXK+q325xl2JBRD4I/AH4E7vt/t/E8XssAabjvHQfV9VS51vbICKHAF9V1WNE5B04msjbgCeAU1U118r+NRsRWYATJNAJPAt8GmeS2Nb3XEQuBP4WJ8rwCeBzOLb9trvfInIzcAhO9dyXgcXArwi4x64wvQInOmsH8GlVXdmUfgw34WEYhmE0znAzWxmGYRhNwISHYRiGUTMmPAzDMIyaMeFhGIZh1IwJD8MwDKNmTHgYhmEYNWPCwxi2iMgMf1lrX/tFIvLhQerDtW1c2dloYyzPwxi2uAUj73DLeA8L3KQxUdVC1Y0NowKmeRjDnbSIXOMuJPTfIjJSRH4sIicCiMh3RGS9u5DOd922H4vIj0TkDyLytFuI0dNk/iAij7v/PuC2HyIi9/sWabrJHcRx27vcv490f7daRO4J67CIXCAi/yUi97qL/3ze993XRORRt78X+vr1pIj8O/A4xbWODKMuMtU3MYy2ZhbwSVX9vIgsAU7wvhCRtwF/DbxTVVVExvt+NwP4ELA/cJ+IzMQpRvcRVd0lIrOAm4Eud/t3A3NxitKtwCneuNx3rD2Ba4CDVfU599iVOABnka/RwBMicicwzz2fA3GqqS4TkYNxylX8BU5pin+o6eoYRgimee+pmnYAAAG7SURBVBjDnedUdZX792M4QsHjTWAXcK2I/A1ObSCPJapaUNVncGpIvRPoAK4RkT8Bt+CsVunxiKr2uOaiVSXHAUcQPKCqzwFEqD21VFV3quprOAUADwSOcP89gaNhvBNHmAC84C4GZBhNwTQPY7jjL5SXB0Z6H1S1X0QOxKnS+gngLJzy7lC+JoICX8YpVDcfZ2K2q8JxSt89CdhnJYKOL8D/UdX/KNqx49vZXsO+DaMqpnkYRgjuQlrjVPUu4EvAAt/XHxeRlIjsj7OC35+BccBLrnbxKZzKzVF5EPiQiOznHrua2ep4ERkhIhNxKqw+CvwW+Izbb0Rkioi01aqBRnIwzcMwwtkDWCoiI3Bm9V/2ffdn4PfA3sAXXD/HvwO3icjHcUxJkWf7qvqqiJwB/EJEUrj+kwo/eQS4E6cE98WqugnYJCLvAh50/fHbgFNxNB3DaCoWqmsYNSIiP8YJ8b21Rce/ANimqt9txfENA8xsZRiGYdSBaR6GkVBE5NPA2SXNK1T1zFb0xzD8mPAwDMMwasbMVoZhGEbNmPAwDMMwasaEh2EYhlEzJjwMwzCMmjHhYRiGYdTM/wf2TZ+UntQWnAAAAABJRU5ErkJggg==\n",
      "text/plain": [
       "<Figure size 432x288 with 1 Axes>"
      ]
     },
     "metadata": {
      "needs_background": "light"
     },
     "output_type": "display_data"
    }
   ],
   "source": [
    "combined.plot(x = \"hispanic_per\", y = \"sat_score\", kind = \"scatter\")"
   ]
  },
  {
   "cell_type": "markdown",
   "metadata": {},
   "source": [
    "This scatter plot definitely helps us learn more about the correlation between the percentage of hispanic students in a school and the mean SAT score.\n",
    "\n",
    "We can clearly see that as hispanic_per increases, SAT score tends to decrease. Indeed, once hispanic_per gets to around 35%, there are no schools with mean SAT scores above 1500. As hispanic_per continues to increase, this number also decreases. This is particularly noticable once hispanic_per hits 100% (or near enough). For schools with hispanic_per of approximately 100, mean SAT score is noticably low, around 1100 for the top performing school.\n",
    "\n",
    "These data points (where hispanic_per ~ 100) are particularly interesting because they completely rule out alternative explanations such as the second one I proposed above - that the low SAT score could be the result of students of other races performing poorly. The fact that this is not the case is particularly clear with these data points. This is also further supported by school with high percentages of hispanic students. As hispanic_per increases, the influence non-hispanic students could have on the school's mean SAT score is reduced, because their scores constitute less of the data. As such, the fact that we see mean SAT scores decreasing as hispanic_per increases is also indicative of the fact that the mean SAT score for a school is not dragged down only by non-hispanic students performing poorly.\n",
    "\n",
    "Thus, we can conclude that the correlation between hispanic_per and SAT score is robust. To establish a hypothesis such as \"ceteris paribus, hispanic students perform more poorly on the SAT than students of other races\", we'd need to control for other factors that may affect SAT score, such as a schools funding, the student's personal or family lives, etc.\n",
    "\n",
    "We can start to do this by looking for schools with hispanic_per higher than a particular threshold, say 95%, and learning more about those schools."
   ]
  },
  {
   "cell_type": "code",
   "execution_count": 30,
   "metadata": {},
   "outputs": [
    {
     "data": {
      "text/html": [
       "<div>\n",
       "<style scoped>\n",
       "    .dataframe tbody tr th:only-of-type {\n",
       "        vertical-align: middle;\n",
       "    }\n",
       "\n",
       "    .dataframe tbody tr th {\n",
       "        vertical-align: top;\n",
       "    }\n",
       "\n",
       "    .dataframe thead th {\n",
       "        text-align: right;\n",
       "    }\n",
       "</style>\n",
       "<table border=\"1\" class=\"dataframe\">\n",
       "  <thead>\n",
       "    <tr style=\"text-align: right;\">\n",
       "      <th></th>\n",
       "      <th>DBN</th>\n",
       "      <th>SCHOOL NAME</th>\n",
       "      <th>Num of SAT Test Takers</th>\n",
       "      <th>SAT Critical Reading Avg. Score</th>\n",
       "      <th>SAT Math Avg. Score</th>\n",
       "      <th>SAT Writing Avg. Score</th>\n",
       "      <th>sat_score</th>\n",
       "      <th>SchoolName</th>\n",
       "      <th>AP Test Takers</th>\n",
       "      <th>Total Exams Taken</th>\n",
       "      <th>...</th>\n",
       "      <th>priority05</th>\n",
       "      <th>priority06</th>\n",
       "      <th>priority07</th>\n",
       "      <th>priority08</th>\n",
       "      <th>priority09</th>\n",
       "      <th>priority10</th>\n",
       "      <th>Location 1</th>\n",
       "      <th>lat</th>\n",
       "      <th>lon</th>\n",
       "      <th>school_dist</th>\n",
       "    </tr>\n",
       "  </thead>\n",
       "  <tbody>\n",
       "    <tr>\n",
       "      <th>44</th>\n",
       "      <td>02M542</td>\n",
       "      <td>MANHATTAN BRIDGES HIGH SCHOOL</td>\n",
       "      <td>66</td>\n",
       "      <td>336.0</td>\n",
       "      <td>378.0</td>\n",
       "      <td>344.0</td>\n",
       "      <td>1058.0</td>\n",
       "      <td>Manhattan Bridges High School</td>\n",
       "      <td>67.000000</td>\n",
       "      <td>102.000000</td>\n",
       "      <td>...</td>\n",
       "      <td>0</td>\n",
       "      <td>0</td>\n",
       "      <td>0</td>\n",
       "      <td>0</td>\n",
       "      <td>0</td>\n",
       "      <td>0</td>\n",
       "      <td>525 West 50Th Street\\nNew York, NY 10019\\n(40....</td>\n",
       "      <td>40.765027</td>\n",
       "      <td>-73.992517</td>\n",
       "      <td>02</td>\n",
       "    </tr>\n",
       "    <tr>\n",
       "      <th>82</th>\n",
       "      <td>06M348</td>\n",
       "      <td>WASHINGTON HEIGHTS EXPEDITIONARY LEARNING SCHOOL</td>\n",
       "      <td>70</td>\n",
       "      <td>380.0</td>\n",
       "      <td>395.0</td>\n",
       "      <td>399.0</td>\n",
       "      <td>1174.0</td>\n",
       "      <td>0</td>\n",
       "      <td>129.028846</td>\n",
       "      <td>197.038462</td>\n",
       "      <td>...</td>\n",
       "      <td>Then to New York City residents</td>\n",
       "      <td>0</td>\n",
       "      <td>0</td>\n",
       "      <td>0</td>\n",
       "      <td>0</td>\n",
       "      <td>0</td>\n",
       "      <td>511 West 182Nd Street\\nNew York, NY 10033\\n(40...</td>\n",
       "      <td>40.848879</td>\n",
       "      <td>-73.930807</td>\n",
       "      <td>06</td>\n",
       "    </tr>\n",
       "    <tr>\n",
       "      <th>89</th>\n",
       "      <td>06M552</td>\n",
       "      <td>GREGORIO LUPERON HIGH SCHOOL FOR SCIENCE AND M...</td>\n",
       "      <td>56</td>\n",
       "      <td>339.0</td>\n",
       "      <td>349.0</td>\n",
       "      <td>326.0</td>\n",
       "      <td>1014.0</td>\n",
       "      <td>GREGORIO LUPERON HS SCI &amp; MATH</td>\n",
       "      <td>88.000000</td>\n",
       "      <td>138.000000</td>\n",
       "      <td>...</td>\n",
       "      <td>0</td>\n",
       "      <td>0</td>\n",
       "      <td>0</td>\n",
       "      <td>0</td>\n",
       "      <td>0</td>\n",
       "      <td>0</td>\n",
       "      <td>501 West 165Th\\nNew York, NY 10032\\n(40.838032...</td>\n",
       "      <td>40.838032</td>\n",
       "      <td>-73.938371</td>\n",
       "      <td>06</td>\n",
       "    </tr>\n",
       "    <tr>\n",
       "      <th>125</th>\n",
       "      <td>09X365</td>\n",
       "      <td>ACADEMY FOR LANGUAGE AND TECHNOLOGY</td>\n",
       "      <td>54</td>\n",
       "      <td>315.0</td>\n",
       "      <td>339.0</td>\n",
       "      <td>297.0</td>\n",
       "      <td>951.0</td>\n",
       "      <td>Academy for Language and Technology</td>\n",
       "      <td>20.000000</td>\n",
       "      <td>20.000000</td>\n",
       "      <td>...</td>\n",
       "      <td>0</td>\n",
       "      <td>0</td>\n",
       "      <td>0</td>\n",
       "      <td>0</td>\n",
       "      <td>0</td>\n",
       "      <td>0</td>\n",
       "      <td>1700 Macombs Road\\nBronx, NY 10453\\n(40.849102...</td>\n",
       "      <td>40.849102</td>\n",
       "      <td>-73.916088</td>\n",
       "      <td>09</td>\n",
       "    </tr>\n",
       "    <tr>\n",
       "      <th>141</th>\n",
       "      <td>10X342</td>\n",
       "      <td>INTERNATIONAL SCHOOL FOR LIBERAL ARTS</td>\n",
       "      <td>49</td>\n",
       "      <td>300.0</td>\n",
       "      <td>333.0</td>\n",
       "      <td>301.0</td>\n",
       "      <td>934.0</td>\n",
       "      <td>International School for Liberal Arts</td>\n",
       "      <td>55.000000</td>\n",
       "      <td>73.000000</td>\n",
       "      <td>...</td>\n",
       "      <td>0</td>\n",
       "      <td>0</td>\n",
       "      <td>0</td>\n",
       "      <td>0</td>\n",
       "      <td>0</td>\n",
       "      <td>0</td>\n",
       "      <td>2780 Reservoir Avenue\\nBronx, NY 10468\\n(40.87...</td>\n",
       "      <td>40.870377</td>\n",
       "      <td>-73.898163</td>\n",
       "      <td>10</td>\n",
       "    </tr>\n",
       "    <tr>\n",
       "      <th>176</th>\n",
       "      <td>12X388</td>\n",
       "      <td>PAN AMERICAN INTERNATIONAL HIGH SCHOOL AT MONROE</td>\n",
       "      <td>30</td>\n",
       "      <td>321.0</td>\n",
       "      <td>351.0</td>\n",
       "      <td>298.0</td>\n",
       "      <td>970.0</td>\n",
       "      <td>0</td>\n",
       "      <td>129.028846</td>\n",
       "      <td>197.038462</td>\n",
       "      <td>...</td>\n",
       "      <td>0</td>\n",
       "      <td>0</td>\n",
       "      <td>0</td>\n",
       "      <td>0</td>\n",
       "      <td>0</td>\n",
       "      <td>0</td>\n",
       "      <td>1300 Boynton Avenue\\nBronx, NY 10472\\n(40.8313...</td>\n",
       "      <td>40.831366</td>\n",
       "      <td>-73.878823</td>\n",
       "      <td>12</td>\n",
       "    </tr>\n",
       "    <tr>\n",
       "      <th>253</th>\n",
       "      <td>19K583</td>\n",
       "      <td>MULTICULTURAL HIGH SCHOOL</td>\n",
       "      <td>29</td>\n",
       "      <td>279.0</td>\n",
       "      <td>322.0</td>\n",
       "      <td>286.0</td>\n",
       "      <td>887.0</td>\n",
       "      <td>Multicultural High School</td>\n",
       "      <td>44.000000</td>\n",
       "      <td>44.000000</td>\n",
       "      <td>...</td>\n",
       "      <td>0</td>\n",
       "      <td>0</td>\n",
       "      <td>0</td>\n",
       "      <td>0</td>\n",
       "      <td>0</td>\n",
       "      <td>0</td>\n",
       "      <td>999 Jamaica Avenue\\nBrooklyn, NY 11208\\n(40.69...</td>\n",
       "      <td>40.691144</td>\n",
       "      <td>-73.868426</td>\n",
       "      <td>19</td>\n",
       "    </tr>\n",
       "    <tr>\n",
       "      <th>286</th>\n",
       "      <td>24Q296</td>\n",
       "      <td>PAN AMERICAN INTERNATIONAL HIGH SCHOOL</td>\n",
       "      <td>55</td>\n",
       "      <td>317.0</td>\n",
       "      <td>323.0</td>\n",
       "      <td>311.0</td>\n",
       "      <td>951.0</td>\n",
       "      <td>0</td>\n",
       "      <td>129.028846</td>\n",
       "      <td>197.038462</td>\n",
       "      <td>...</td>\n",
       "      <td>0</td>\n",
       "      <td>0</td>\n",
       "      <td>0</td>\n",
       "      <td>0</td>\n",
       "      <td>0</td>\n",
       "      <td>0</td>\n",
       "      <td>45-10 94Th Street\\nElmhurst, NY 11373\\n(40.743...</td>\n",
       "      <td>40.743303</td>\n",
       "      <td>-73.870575</td>\n",
       "      <td>24</td>\n",
       "    </tr>\n",
       "  </tbody>\n",
       "</table>\n",
       "<p>8 rows × 160 columns</p>\n",
       "</div>"
      ],
      "text/plain": [
       "        DBN                                        SCHOOL NAME  \\\n",
       "44   02M542                      MANHATTAN BRIDGES HIGH SCHOOL   \n",
       "82   06M348   WASHINGTON HEIGHTS EXPEDITIONARY LEARNING SCHOOL   \n",
       "89   06M552  GREGORIO LUPERON HIGH SCHOOL FOR SCIENCE AND M...   \n",
       "125  09X365                ACADEMY FOR LANGUAGE AND TECHNOLOGY   \n",
       "141  10X342              INTERNATIONAL SCHOOL FOR LIBERAL ARTS   \n",
       "176  12X388   PAN AMERICAN INTERNATIONAL HIGH SCHOOL AT MONROE   \n",
       "253  19K583                          MULTICULTURAL HIGH SCHOOL   \n",
       "286  24Q296             PAN AMERICAN INTERNATIONAL HIGH SCHOOL   \n",
       "\n",
       "    Num of SAT Test Takers  SAT Critical Reading Avg. Score  \\\n",
       "44                      66                            336.0   \n",
       "82                      70                            380.0   \n",
       "89                      56                            339.0   \n",
       "125                     54                            315.0   \n",
       "141                     49                            300.0   \n",
       "176                     30                            321.0   \n",
       "253                     29                            279.0   \n",
       "286                     55                            317.0   \n",
       "\n",
       "     SAT Math Avg. Score  SAT Writing Avg. Score  sat_score  \\\n",
       "44                 378.0                   344.0     1058.0   \n",
       "82                 395.0                   399.0     1174.0   \n",
       "89                 349.0                   326.0     1014.0   \n",
       "125                339.0                   297.0      951.0   \n",
       "141                333.0                   301.0      934.0   \n",
       "176                351.0                   298.0      970.0   \n",
       "253                322.0                   286.0      887.0   \n",
       "286                323.0                   311.0      951.0   \n",
       "\n",
       "                                SchoolName  AP Test Takers   \\\n",
       "44           Manhattan Bridges High School        67.000000   \n",
       "82                                       0       129.028846   \n",
       "89          GREGORIO LUPERON HS SCI & MATH        88.000000   \n",
       "125    Academy for Language and Technology        20.000000   \n",
       "141  International School for Liberal Arts        55.000000   \n",
       "176                                      0       129.028846   \n",
       "253              Multicultural High School        44.000000   \n",
       "286                                      0       129.028846   \n",
       "\n",
       "     Total Exams Taken     ...                           priority05  \\\n",
       "44          102.000000     ...                                    0   \n",
       "82          197.038462     ...      Then to New York City residents   \n",
       "89          138.000000     ...                                    0   \n",
       "125          20.000000     ...                                    0   \n",
       "141          73.000000     ...                                    0   \n",
       "176         197.038462     ...                                    0   \n",
       "253          44.000000     ...                                    0   \n",
       "286         197.038462     ...                                    0   \n",
       "\n",
       "    priority06 priority07 priority08  priority09 priority10  \\\n",
       "44           0          0          0           0          0   \n",
       "82           0          0          0           0          0   \n",
       "89           0          0          0           0          0   \n",
       "125          0          0          0           0          0   \n",
       "141          0          0          0           0          0   \n",
       "176          0          0          0           0          0   \n",
       "253          0          0          0           0          0   \n",
       "286          0          0          0           0          0   \n",
       "\n",
       "                                            Location 1        lat        lon  \\\n",
       "44   525 West 50Th Street\\nNew York, NY 10019\\n(40....  40.765027 -73.992517   \n",
       "82   511 West 182Nd Street\\nNew York, NY 10033\\n(40...  40.848879 -73.930807   \n",
       "89   501 West 165Th\\nNew York, NY 10032\\n(40.838032...  40.838032 -73.938371   \n",
       "125  1700 Macombs Road\\nBronx, NY 10453\\n(40.849102...  40.849102 -73.916088   \n",
       "141  2780 Reservoir Avenue\\nBronx, NY 10468\\n(40.87...  40.870377 -73.898163   \n",
       "176  1300 Boynton Avenue\\nBronx, NY 10472\\n(40.8313...  40.831366 -73.878823   \n",
       "253  999 Jamaica Avenue\\nBrooklyn, NY 11208\\n(40.69...  40.691144 -73.868426   \n",
       "286  45-10 94Th Street\\nElmhurst, NY 11373\\n(40.743...  40.743303 -73.870575   \n",
       "\n",
       "    school_dist  \n",
       "44           02  \n",
       "82           06  \n",
       "89           06  \n",
       "125          09  \n",
       "141          10  \n",
       "176          12  \n",
       "253          19  \n",
       "286          24  \n",
       "\n",
       "[8 rows x 160 columns]"
      ]
     },
     "execution_count": 30,
     "metadata": {},
     "output_type": "execute_result"
    }
   ],
   "source": [
    "hispanic_95 = combined[combined[\"hispanic_per\"] >= 95]\n",
    "hispanic_95"
   ]
  },
  {
   "cell_type": "markdown",
   "metadata": {},
   "source": [
    "Let's just look at three of these schools: Manhattan Bridges High School, Multicultural High School, and Pan American International High School at Monroe.\n",
    "\n",
    "Most notably, each of these schools offers Spanish bilingual instruction for recent immigrants to the US. This certainly explains the relatively low SAT scores for each of these schools, as it indicates several factors that would likely affect SAT score: language proficiency (presumably most will not be fluent in English, and the SAT is only given in English), previous education (while this may have been good, if the education was not aimed at preparing students for the SAT, this may affect their performance. It is also possible that immigrants to the US will not have had a good quality education prior to immigrating), and circumstance (immigrating to the US could certainly be destabilising, at least initially).\n",
    "\n",
    "We now have reason to believe that the correlation between hispanic_per and SAT score is the result of non-racial factors. Furthermore, the fact that these factors are likely correlated with race would explain why we observed the initial correlation.\n",
    "\n",
    "If we wanted to strengthen our hypothesis that the correlation between hispanic_per and SAT score is the result of these factors, we'd need to collect additional data, likely from surveys of hispanic students in various schools. We'd also need to control for race when investigating these factors. That is, the above three factors I've discussed may certainly affect non-hispanic students as well, which we ought to be aware of. Similarly, some hispanic students (e.g. 2nd or later generation immigrants) will not be affected by these issues, but if their SAT scores are still poor, we would suspect that there is an additional factor influencing their SAT score that we ought to investigate.\n",
    "\n",
    "So, we've gone some way to figuring out why there is a correlation  between hispanic_per and SAT score, but there is much work left to be done!\n",
    "\n",
    "There is much more that we could investigate in this data set, such as correlations between gender and SAT score, or school size and SAT score. These are certainly interesting relationships, but I'll leave this project here."
   ]
  }
 ],
 "metadata": {
  "kernelspec": {
   "display_name": "Python 3",
   "language": "python",
   "name": "python3"
  },
  "language_info": {
   "codemirror_mode": {
    "name": "ipython",
    "version": 3
   },
   "file_extension": ".py",
   "mimetype": "text/x-python",
   "name": "python",
   "nbconvert_exporter": "python",
   "pygments_lexer": "ipython3",
   "version": "3.7.0"
  }
 },
 "nbformat": 4,
 "nbformat_minor": 2
}
